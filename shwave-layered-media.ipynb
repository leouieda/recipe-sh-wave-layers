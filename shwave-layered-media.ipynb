{
 "metadata": {
  "name": ""
 },
 "nbformat": 3,
 "nbformat_minor": 0,
 "worksheets": [
  {
   "cells": [
    {
     "cell_type": "code",
     "collapsed": false,
     "input": [
      "import time\n",
      "import numpy as np\n",
      "from IPython.display import Image\n",
      "from matplotlib import animation\n",
      "from fatiando import gridder, io\n",
      "from fatiando.seismic import wavefd\n",
      "from fatiando.vis import mpl\n",
      "import matplotlib\n",
      "matplotlib.rcParams['font.size'] = 20"
     ],
     "language": "python",
     "metadata": {},
     "outputs": [],
     "prompt_number": 1
    },
    {
     "cell_type": "code",
     "collapsed": false,
     "input": [
      "def animate(simulation, background, shape, area, duration, maxit, dt, snapshot, delay=0, save=False, outdir='.', dpi=50):\n",
      "    start = time.time()\n",
      "    fig = mpl.figure(figsize=(8, 8))\n",
      "    mpl.imshow(background[::-1], extent=area, cmap=mpl.cm.jet)\n",
      "    wavefield = mpl.imshow(np.zeros(shape), extent=area, vmin=-10**-6, vmax=10**-6, cmap=mpl.cm.seismic, alpha=0.7)\n",
      "    mpl.ylim(area[2:][::-1])\n",
      "    mpl.xlabel('x (km)')\n",
      "    mpl.ylabel('z (km)')\n",
      "    mpl.m2km()\n",
      "    times = np.linspace(0, maxit*dt, maxit)\n",
      "    def animate(i):\n",
      "        t, u, seismogram = simulation.next()\n",
      "        mpl.title('time: %0.2f s' % (times[t]))\n",
      "        wavefield.set_array(u[::-1])\n",
      "        if save:\n",
      "            mpl.savefig('%s/frame%06d.png' % (outdir, i), dpi=dpi)\n",
      "        time.sleep(delay)        \n",
      "        return wavefield\n",
      "    anim = animation.FuncAnimation(fig, animate, frames=maxit/snapshot, interval=1)\n",
      "    mpl.show()\n",
      "    print 'time it took: %g s' % (time.time() - start)"
     ],
     "language": "python",
     "metadata": {},
     "outputs": [],
     "prompt_number": 2
    },
    {
     "cell_type": "code",
     "collapsed": false,
     "input": [
      "Image(filename='stratified.png')"
     ],
     "language": "python",
     "metadata": {},
     "outputs": [
      {
       "metadata": {},
       "output_type": "pyout",
       "png": "[encoded data removed]",
       "prompt_number": 3,
       "text": [
        "<IPython.core.display.Image at 0x2728090>"
       ]
      }
     ],
     "prompt_number": 3
    },
    {
     "cell_type": "code",
     "collapsed": false,
     "input": [
      "area = [0, 2500, 0, 2500]\n",
      "density = io.fromimage('stratified.png', [2000, 2400]).astype(np.float64)\n",
      "svel = io.fromimage('stratified.png', [3000, 4000]).astype(np.float64)\n",
      "mu = wavefd.lame_mu(svel, density)\n",
      "shape = mu.shape"
     ],
     "language": "python",
     "metadata": {},
     "outputs": [],
     "prompt_number": 4
    },
    {
     "cell_type": "code",
     "collapsed": false,
     "input": [
      "sources = [wavefd.MexHatSource(1250, 0, area, shape, 100000000, 40, delay=0.05)]\n",
      "dt = wavefd.maxdt(area, shape, svel.max())\n",
      "duration = 1.5\n",
      "maxit = int(duration/dt)\n",
      "snapshot = int(0.01/dt)\n",
      "simulation = wavefd.elastic_sh(mu, density, area, dt, maxit, sources, snapshot=snapshot, padding=80, taper=0.005)\n",
      "animate(simulation, svel, shape, area, duration, maxit, dt, snapshot)\n",
      "#animate(simulation, svel, shape, area, duration, maxit, dt, snapshot, save=True, outdir='animation', dpi=30)"
     ],
     "language": "python",
     "metadata": {},
     "outputs": [
      {
       "output_type": "stream",
       "stream": "stdout",
       "text": [
        "time it took: 44.6093 s\n"
       ]
      }
     ],
     "prompt_number": 5
    },
    {
     "cell_type": "code",
     "collapsed": false,
     "input": [
      "!convert -coalesce -delay 5 -loop 0 -layers Optimize animation/frame*.png animation.gif"
     ],
     "language": "python",
     "metadata": {},
     "outputs": [],
     "prompt_number": 32
    },
    {
     "cell_type": "code",
     "collapsed": false,
     "input": [
      "Image(url=\"files/animation.gif\")"
     ],
     "language": "python",
     "metadata": {},
     "outputs": [
      {
       "html": [
        "<img src=\"files/animation.gif\"/>"
       ],
       "metadata": {},
       "output_type": "pyout",
       "prompt_number": 33,
       "text": [
        "<IPython.core.display.Image at 0x3688750>"
       ]
      }
     ],
     "prompt_number": 33
    }
   ],
   "metadata": {}
  }
 ]
}